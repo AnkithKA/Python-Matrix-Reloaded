{
  "nbformat": 4,
  "nbformat_minor": 0,
  "metadata": {
    "colab": {
      "provenance": []
    },
    "kernelspec": {
      "name": "python3",
      "display_name": "Python 3"
    },
    "language_info": {
      "name": "python"
    }
  },
  "cells": [
    {
      "cell_type": "markdown",
      "source": [
        "\n",
        "\n",
        "### 🧠 What is `asyncio`?\n",
        "\n",
        "`asyncio` is a Python module used for writing **concurrent code** using the **async/await** syntax. It allows you to run multiple tasks **asynchronously**, meaning they can **wait for I/O operations** (like network requests, file reading) without blocking the entire program.\n",
        "\n",
        "This is useful when you have many I/O-bound tasks that spend time waiting and could otherwise be doing something else.\n",
        "\n",
        "---\n",
        "\n",
        "## ✅ Example: Simple Async Program\n",
        "\n",
        "Let’s say we want to simulate downloading several files from the internet. Each download takes 1 second. We’ll do it both synchronously and asynchronously to compare.\n",
        "\n",
        "---\n",
        "\n",
        "## 🔁 Synchronous Version (Blocking)\n",
        "\n",
        "```python\n",
        "import time\n",
        "\n",
        "# A regular synchronous function\n",
        "def download_file(file_id):\n",
        "    print(f\"Start downloading {file_id}\")\n",
        "    time.sleep(1)  # Simulate a 1-second download\n",
        "    print(f\"Finished downloading {file_id}\")\n",
        "\n",
        "# Main function that calls download_file sequentially\n",
        "def main_sync():\n",
        "    for i in range(3):\n",
        "        download_file(i)\n",
        "\n",
        "# Run the sync version\n",
        "start = time.time()\n",
        "main_sync()\n",
        "end = time.time()\n",
        "print(f\"Synchronous total time: {end - start:.2f} seconds\")\n",
        "```\n",
        "\n",
        "**Output (approx):**\n",
        "```\n",
        "Start downloading 0\n",
        "Finished downloading 0\n",
        "Start downloading 1\n",
        "Finished downloading 1\n",
        "Start downloading 2\n",
        "Finished downloading 2\n",
        "Synchronous total time: 3.00 seconds\n",
        "```\n",
        "\n",
        "Each download waits for the previous one — inefficient!\n",
        "\n",
        "---\n",
        "\n",
        "## 🚀 Asynchronous Version Using `asyncio`\n",
        "\n",
        "Now let's rewrite this with `asyncio`. We'll use `async def` functions and `await asyncio.sleep()` instead of `time.sleep()`.\n",
        "\n",
        "```python\n",
        "import asyncio\n",
        "import time\n",
        "\n",
        "# An async function (a coroutine)\n",
        "async def download_file(file_id):\n",
        "    print(f\"Start downloading {file_id}\")\n",
        "    \n",
        "    # 'await' hands control back to the event loop\n",
        "    await asyncio.sleep(1)  # Simulate a 1-second download\n",
        "    \n",
        "    print(f\"Finished downloading {file_id}\")\n",
        "\n",
        "# The async main function that schedules tasks to run concurrently\n",
        "async def main_async():\n",
        "    # Create a list of tasks to run concurrently\n",
        "    tasks = [download_file(i) for i in range(3)]\n",
        "    \n",
        "    # Run all tasks at once\n",
        "    await asyncio.gather(*tasks)\n",
        "\n",
        "# Start the async event loop and run the program\n",
        "start = time.time()\n",
        "asyncio.run(main_async())  # asyncio.run() manages the event loop\n",
        "end = time.time()\n",
        "print(f\"Asynchronous total time: {end - start:.2f} seconds\")\n",
        "```\n",
        "\n",
        "**Output (approx):**\n",
        "```\n",
        "Start downloading 0\n",
        "Start downloading 1\n",
        "Start downloading 2\n",
        "Finished downloading 0\n",
        "Finished downloading 1\n",
        "Finished downloading 2\n",
        "Asynchronous total time: 1.00 seconds\n",
        "```\n",
        "\n",
        "---\n",
        "\n",
        "## 📌 Key Concepts Explained\n",
        "\n",
        "| Concept | Explanation |\n",
        "|--------|-------------|\n",
        "| `async def` | Defines an **async function** (also called a **coroutine**) |\n",
        "| `await` | Pauses execution until the awaited task completes, allowing other coroutines to run |\n",
        "| `asyncio.sleep()` | Non-blocking alternative to `time.sleep()` |\n",
        "| `asyncio.gather()` | Runs multiple awaitables (like coroutines) concurrently |\n",
        "| `asyncio.run()` | Starts the **event loop** and runs the async program |\n",
        "\n",
        "---\n",
        "\n",
        "## 🤔 When to Use `asyncio`\n",
        "\n",
        "Use `asyncio` when:\n",
        "- You're doing **I/O-bound** work (e.g., web requests, file reading/writing, database queries).\n",
        "- You want to **handle many connections/tasks at once**.\n",
        "- You don’t need **CPU-heavy parallelism** (for that, consider `multiprocessing`).\n",
        "\n",
        "---\n",
        "\n",
        "## 🧪 Bonus Tip: Mixing Sync and Async\n",
        "\n",
        "You can call synchronous functions from async code using:\n",
        "\n",
        "```python\n",
        "loop = asyncio.get_event_loop()\n",
        "result = await loop.run_in_executor(None, blocking_function, args)\n",
        "```\n",
        "\n",
        "But avoid calling async functions from sync code unless you're using tools like `asyncio.run()`.\n",
        "\n",
        "---\n",
        "\n"
      ],
      "metadata": {
        "id": "wRyO3pTE5MT1"
      }
    },
    {
      "cell_type": "code",
      "execution_count": 2,
      "metadata": {
        "colab": {
          "base_uri": "https://localhost:8080/"
        },
        "id": "N6rF4b4F3l8p",
        "outputId": "c423f01c-f84c-4c5f-9d91-ffed40201780"
      },
      "outputs": [
        {
          "output_type": "stream",
          "name": "stdout",
          "text": [
            "Start downloading 0\n",
            "Finished downloading 0\n",
            "Start downloading 1\n",
            "Finished downloading 1\n",
            "Start downloading 2\n",
            "Finished downloading 2\n",
            "Synchronous total time: 3.00 seconds\n"
          ]
        }
      ],
      "source": [
        "import time\n",
        "\n",
        "# A regular synchronous function\n",
        "def download_file(file_id):\n",
        "    print(f\"Start downloading {file_id}\")\n",
        "    time.sleep(1)  # Simulate a 1-second download\n",
        "    print(f\"Finished downloading {file_id}\")\n",
        "\n",
        "# Main function that calls download_file sequentially\n",
        "def main_sync():\n",
        "    for i in range(3):\n",
        "        download_file(i)\n",
        "\n",
        "# Run the sync version\n",
        "start = time.time()\n",
        "main_sync()\n",
        "end = time.time()\n",
        "print(f\"Synchronous total time: {end - start:.2f} seconds\")"
      ]
    },
    {
      "cell_type": "code",
      "source": [
        "pip install nest_asyncio"
      ],
      "metadata": {
        "colab": {
          "base_uri": "https://localhost:8080/"
        },
        "id": "XJLrHy3H5vAm",
        "outputId": "22081460-2e05-4194-f222-fff370351b01"
      },
      "execution_count": 4,
      "outputs": [
        {
          "output_type": "stream",
          "name": "stdout",
          "text": [
            "Requirement already satisfied: nest_asyncio in /usr/local/lib/python3.11/dist-packages (1.6.0)\n"
          ]
        }
      ]
    },
    {
      "cell_type": "code",
      "source": [
        "import asyncio\n",
        "import time\n",
        "import nest_asyncio  # <-- New line\n",
        "\n",
        "# Apply the patch to allow nested event loops\n",
        "nest_asyncio.apply()  # <-- Apply fix\n",
        "\n",
        "async def download_file(file_id):\n",
        "    print(f\"Start downloading {file_id}\")\n",
        "    await asyncio.sleep(1)\n",
        "    print(f\"Finished downloading {file_id}\")\n",
        "\n",
        "async def main_async():\n",
        "    tasks = [download_file(i) for i in range(3)]\n",
        "    await asyncio.gather(*tasks)\n",
        "\n",
        "start = time.time()\n",
        "asyncio.run(main_async())  # Now this works even in Jupyter/IPython\n",
        "end = time.time()\n",
        "print(f\"Asynchronous total time: {end - start:.2f} seconds\")"
      ],
      "metadata": {
        "colab": {
          "base_uri": "https://localhost:8080/"
        },
        "id": "Ri-VMaE36pdj",
        "outputId": "8c8aed79-3b02-494d-cb8d-70956d77ea4d"
      },
      "execution_count": 5,
      "outputs": [
        {
          "output_type": "stream",
          "name": "stdout",
          "text": [
            "Start downloading 0\n",
            "Start downloading 1\n",
            "Start downloading 2\n",
            "Finished downloading 0\n",
            "Finished downloading 1\n",
            "Finished downloading 2\n",
            "Asynchronous total time: 1.00 seconds\n"
          ]
        }
      ]
    }
  ]
}