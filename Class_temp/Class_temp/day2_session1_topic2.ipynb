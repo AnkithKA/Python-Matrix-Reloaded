{
  "nbformat": 4,
  "nbformat_minor": 0,
  "metadata": {
    "colab": {
      "provenance": []
    },
    "kernelspec": {
      "name": "python3",
      "display_name": "Python 3"
    },
    "language_info": {
      "name": "python"
    }
  },
  "cells": [
    {
      "cell_type": "markdown",
      "source": [
        "\n",
        "\n",
        "---\n",
        "\n",
        "# 🧠 Day 2 – Session 1 • Topic 2  \n",
        "## Memory Profilers & Allocation Tracing\n",
        "\n",
        "This notebook demonstrates how to use Python tools to trace memory usage and detect memory leaks or growth patterns.\n",
        "\n",
        "---\n",
        "\n",
        "## ✅ 1. `tracemalloc`: Take Snapshots and Compare Allocations\n",
        "\n",
        "### What It Does:\n",
        "Tracks memory allocations line-by-line and compares two points in time (before/after a function call).\n",
        "\n",
        "### Code:\n",
        "\n",
        "```python\n",
        "import tracemalloc\n",
        "import sys\n",
        "import random\n",
        "\n",
        "def waste_memory():\n",
        "    \"\"\"Simulate memory leak by creating many bytearrays.\"\"\"\n",
        "    junk = []\n",
        "    for _ in range(1000):\n",
        "        junk.append(bytearray(random.randint(1000, 2000)))\n",
        "    return junk\n",
        "\n",
        "# Start memory tracing\n",
        "tracemalloc.start()\n",
        "\n",
        "# Take initial snapshot\n",
        "snap1 = tracemalloc.take_snapshot()\n",
        "\n",
        "# Run memory-intensive function\n",
        "_ = waste_memory()\n",
        "\n",
        "# Take second snapshot after allocation\n",
        "snap2 = tracemalloc.take_snapshot()\n",
        "\n",
        "# Compare snapshots and show top memory consumers\n",
        "top_stats = snap2.compare_to(snap1, 'lineno')[:5]\n",
        "print(\"Top 5 memory changes (tracemalloc diff):\")\n",
        "for stat in top_stats:\n",
        "    print(stat)\n",
        "```\n",
        "\n",
        "### 🔍 Sample Output:\n",
        "\n",
        "```\n",
        "Top 5 memory changes (tracemalloc diff):\n",
        "<traceback at 0x7f9c4e3f68b0: 1000 blocks allocated>\n",
        "<traceback at 0x7f9c4e3f6a20: 1000 blocks allocated>\n",
        "<traceback at 0x7f9c4e3f6b90: 1000 blocks allocated>\n",
        "<traceback at 0x7f9c4e3f6d00: 1000 blocks allocated>\n",
        "<traceback at 0x7f9c4e3f6e70: 1000 blocks allocated>\n",
        "```\n",
        "\n",
        "> 📌 Each line corresponds to where in your code the allocations occurred — useful for finding leaks!\n",
        "\n",
        "---\n",
        "\n",
        "## ✅ 2. `memory_profiler`: Monitor RSS (Live Memory Usage)\n",
        "\n",
        "### What It Does:\n",
        "Measures the **resident set size (RSS)** over time — i.e., how much memory your process uses.\n",
        "\n",
        "### Code:\n",
        "\n",
        "```python\n",
        "try:\n",
        "    from memory_profiler import memory_usage\n",
        "\n",
        "    def task():\n",
        "        waste_memory()\n",
        "        return \"done\"\n",
        "\n",
        "    # Measure memory before and after\n",
        "    mem_before = memory_usage()[0]\n",
        "    result = memory_usage(task, interval=0.1)\n",
        "    mem_after = memory_usage()[0]\n",
        "\n",
        "    print(f\"\\nmemory_profiler RSS diff: {mem_after - mem_before:.2f} MiB\")\n",
        "\n",
        "except ImportError:\n",
        "    print(\"\\nmemory_profiler not installed; skipping RSS demo\")\n",
        "    print(\"Install it with: pip install memory_profiler\")\n",
        "```\n",
        "\n",
        "### 🔍 Sample Output:\n",
        "\n",
        "```\n",
        "memory_profiler RSS diff: 1.25 MiB\n",
        "```\n",
        "\n",
        "> 📈 This tells you how much memory your function increased during execution.\n",
        "\n",
        "---\n",
        "\n",
        "## ✅ 3. `objgraph`: Detect Object Growth\n",
        "\n",
        "### What It Does:\n",
        "Tracks which types of objects are increasing in count — helpful for spotting memory bloat or reference leaks.\n",
        "\n",
        "### Code:\n",
        "\n",
        "```python\n",
        "try:\n",
        "    import objgraph\n",
        "    import gc\n",
        "\n",
        "    gc.collect()  # Clean up any garbage first\n",
        "\n",
        "    print(\"\\nobjgraph top growth:\")\n",
        "    objgraph.show_growth(limit=5)\n",
        "\n",
        "except ImportError:\n",
        "    print(\"\\nobjgraph not installed; skipping growth demo\")\n",
        "    print(\"Install it with: pip install objgraph\")\n",
        "```\n",
        "\n",
        "### 🔍 Sample Output:\n",
        "\n",
        "```\n",
        "objgraph top growth:\n",
        "list             10014   10016   +2\n",
        "dict             20010   20015   +5\n",
        "tuple            30000   30010  +10\n",
        "bytearray        1000    2000   +1000\n",
        "```\n",
        "\n",
        "> 🐍 The most relevant here is the increase in `bytearray` — this confirms our simulated leak.\n",
        "\n",
        "---\n",
        "\n",
        "## ✅ 4. ASCII Heap Timeline Diagram\n",
        "\n",
        "Here's a visual summary of what happened:\n",
        "\n",
        "```\n",
        "ASCII heap timeline (bytes):\n",
        "\n",
        "time --> ████████████  leak grows\n",
        "          ^snap1      ^snap2\n",
        "Use tracemalloc to reveal source lines.\n",
        "```\n",
        "\n",
        "- At `snap1`, baseline memory usage is captured.\n",
        "- Between `snap1` and `snap2`, `waste_memory()` allocates lots of `bytearray`s.\n",
        "- At `snap2`, we capture the new state and compare.\n",
        "\n",
        "---\n",
        "\n",
        "## ✅ 5. Best Practice Tips for Memory Profiling\n",
        "\n",
        "| Tip | Description |\n",
        "|-----|-------------|\n",
        "| 🔁 Use `tracemalloc.start(25)` | Store up to 25 stack frames per allocation for better debugging |\n",
        "| 📊 Always compare snapshots | Don’t rely on absolute numbers — compare before/after a known operation |\n",
        "| 🚫 Disable GC when needed | Use `--disable-gc` flag if GC behavior affects measurements |\n",
        "| 🧹 Release large objects | Use `del` or context managers to free memory before final snapshot |\n",
        "| 🧭 Trace object growth | Use `objgraph.show_growth()` to see which object types are growing |\n",
        "\n",
        "---\n",
        "\n",
        "## 🧪 Summary Table\n",
        "\n",
        "| Tool | Purpose | Output Type | Installation Required |\n",
        "|------|---------|-------------|------------------------|\n",
        "| `tracemalloc` | Line-level allocation tracking | Text stats | No (built-in) |\n",
        "| `memory_profiler` | Monitor live RSS | Memory usage chart | Yes (`pip install`) |\n",
        "| `objgraph` | Track object type growth | Growth table | Yes (`pip install`) |\n",
        "\n",
        "---\n"
      ],
      "metadata": {
        "id": "31iVPQTGHcZf"
      }
    },
    {
      "cell_type": "code",
      "execution_count": 5,
      "metadata": {
        "colab": {
          "base_uri": "https://localhost:8080/"
        },
        "id": "Jmc1veWfHbRV",
        "outputId": "8fda226f-5f7a-491b-ab8a-fd397c8d23c0"
      },
      "outputs": [
        {
          "output_type": "stream",
          "name": "stdout",
          "text": [
            "Top 3 memory changes (tracemalloc diff):\n",
            "<ipython-input-5-268105f84239>:9: size=1538 KiB (+1538 KiB), count=2001 (+2001), average=787 B\n",
            "/usr/lib/python3.11/tracemalloc.py:193: size=11.0 KiB (-7344 B), count=234 (-153), average=48 B\n",
            "/usr/lib/python3.11/tracemalloc.py:558: size=67.3 KiB (+7264 B), count=1391 (+151), average=50 B\n"
          ]
        }
      ],
      "source": [
        "import tracemalloc\n",
        "import sys\n",
        "import random\n",
        "\n",
        "def waste_memory():\n",
        "    \"\"\"Simulate memory leak by creating many bytearrays.\"\"\"\n",
        "    junk = []\n",
        "    for _ in range(1000):\n",
        "        junk.append(bytearray(random.randint(1000, 2000)))\n",
        "    return junk\n",
        "\n",
        "# Start memory tracing\n",
        "tracemalloc.start()\n",
        "\n",
        "# Take initial snapshot\n",
        "snap1 = tracemalloc.take_snapshot()\n",
        "\n",
        "# Run memory-intensive function\n",
        "_ = waste_memory()\n",
        "\n",
        "# Take second snapshot after allocation\n",
        "snap2 = tracemalloc.take_snapshot()\n",
        "\n",
        "# Compare snapshots and show top memory consumers\n",
        "top_stats = snap2.compare_to(snap1, 'lineno')[:3]\n",
        "print(\"Top 3 memory changes (tracemalloc diff):\")\n",
        "for stat in top_stats:\n",
        "    print(stat)"
      ]
    },
    {
      "cell_type": "code",
      "source": [
        "!pip install memory_profiler"
      ],
      "metadata": {
        "colab": {
          "base_uri": "https://localhost:8080/"
        },
        "id": "6CrQxbddLd6Z",
        "outputId": "f45954dc-d35f-4bdb-8363-147297f60bc5"
      },
      "execution_count": 7,
      "outputs": [
        {
          "output_type": "stream",
          "name": "stdout",
          "text": [
            "Collecting memory_profiler\n",
            "  Downloading memory_profiler-0.61.0-py3-none-any.whl.metadata (20 kB)\n",
            "Requirement already satisfied: psutil in /usr/local/lib/python3.11/dist-packages (from memory_profiler) (5.9.5)\n",
            "Downloading memory_profiler-0.61.0-py3-none-any.whl (31 kB)\n",
            "Installing collected packages: memory_profiler\n",
            "Successfully installed memory_profiler-0.61.0\n"
          ]
        }
      ]
    },
    {
      "cell_type": "code",
      "source": [
        "try:\n",
        "    from memory_profiler import memory_usage\n",
        "\n",
        "    def task():\n",
        "        waste_memory()\n",
        "        return \"done\"\n",
        "\n",
        "    # Measure memory before and after\n",
        "    mem_before = memory_usage()[0]\n",
        "    result = memory_usage(task, interval=0.1)\n",
        "    mem_after = memory_usage()[0]\n",
        "\n",
        "    print(f\"\\nmemory_profiler RSS diff: {mem_after - mem_before:.2f} MiB\")\n",
        "\n",
        "except ImportError:\n",
        "    print(\"\\nmemory_profiler not installed; skipping RSS demo\")\n",
        "    print(\"Install it with: pip install memory_profiler\")"
      ],
      "metadata": {
        "colab": {
          "base_uri": "https://localhost:8080/"
        },
        "id": "AfXLIfR1K8wW",
        "outputId": "7305b510-d08b-450d-d0de-7a23fbe4e12d"
      },
      "execution_count": 14,
      "outputs": [
        {
          "output_type": "stream",
          "name": "stdout",
          "text": [
            "\n",
            "memory_profiler RSS diff: 0.02 MiB\n"
          ]
        }
      ]
    },
    {
      "cell_type": "code",
      "source": [
        "!pip install objgraph"
      ],
      "metadata": {
        "colab": {
          "base_uri": "https://localhost:8080/"
        },
        "id": "0vFXm4jSLs1K",
        "outputId": "18734881-cdef-4955-e909-b4619976812e"
      },
      "execution_count": 11,
      "outputs": [
        {
          "output_type": "stream",
          "name": "stdout",
          "text": [
            "Collecting objgraph\n",
            "  Downloading objgraph-3.6.2-py3-none-any.whl.metadata (12 kB)\n",
            "Downloading objgraph-3.6.2-py3-none-any.whl (17 kB)\n",
            "Installing collected packages: objgraph\n",
            "Successfully installed objgraph-3.6.2\n"
          ]
        }
      ]
    },
    {
      "cell_type": "code",
      "source": [
        "try:\n",
        "    import objgraph\n",
        "    import gc\n",
        "\n",
        "    gc.collect()  # Clean up any garbage first\n",
        "\n",
        "    print(\"\\nobjgraph top growth:\")\n",
        "    objgraph.show_growth(limit=5)\n",
        "\n",
        "except ImportError:\n",
        "    print(\"\\nobjgraph not installed; skipping growth demo\")\n",
        "    print(\"Install it with: pip install objgraph\")"
      ],
      "metadata": {
        "colab": {
          "base_uri": "https://localhost:8080/"
        },
        "id": "L7KOs3kNMGoi",
        "outputId": "97fd7ad7-9782-4fd3-e1d7-8b936c72a7c2"
      },
      "execution_count": 12,
      "outputs": [
        {
          "output_type": "stream",
          "name": "stdout",
          "text": [
            "\n",
            "objgraph top growth:\n",
            "function         25637    +25637\n",
            "tuple            14108    +14108\n",
            "dict             12738    +12738\n",
            "list             12046    +12046\n",
            "ReferenceType     6458     +6458\n"
          ]
        }
      ]
    },
    {
      "cell_type": "code",
      "source": [
        "\"\"\"\n",
        "Memory Growth Detection Demo using objgraph\n",
        "\n",
        "Shows:\n",
        "  - Normal object creation in Python\n",
        "  - Simulated memory leak\n",
        "  - How to detect real leaks using objgraph + gc\n",
        "\"\"\"\n",
        "\n",
        "import objgraph\n",
        "import gc\n",
        "import time\n",
        "\n",
        "\n",
        "def normal_operations():\n",
        "    \"\"\"Simulate normal Python behavior.\"\"\"\n",
        "    _ = (1, 2, 3)                 # tuple\n",
        "    _ = {'a': 1, 'b': 2}          # dict\n",
        "    _ = [1, 2, 3]                 # list\n",
        "    _ = lambda x: x * 2           # function\n",
        "    _ = weakref.ref(lambda: None) # ReferenceType (if weakref imported)\n",
        "\n",
        "    return \"done\"\n",
        "\n",
        "\n",
        "def leaky_function():\n",
        "    \"\"\"\n",
        "    A function that creates a real memory leak by storing lambdas in a global list.\n",
        "    \"\"\"\n",
        "    if not hasattr(leaky_function, 'storage'):\n",
        "        leaky_function.storage = []\n",
        "\n",
        "    for i in range(100):\n",
        "        fn = lambda x=i: x * x\n",
        "        leaky_function.storage.append(fn)\n",
        "\n",
        "    return \"leaked\"\n",
        "\n",
        "\n",
        "# --------------------------\n",
        "# Main demo\n",
        "# --------------------------\n",
        "\n",
        "print(\"Ensure objgraph and weakref are installed:\")\n",
        "try:\n",
        "    import weakref\n",
        "    print(\"weakref found\")\n",
        "except ImportError:\n",
        "    print(\"weakref not found — some types may be missing\")\n",
        "\n",
        "print(\"\\n[1] Initial growth after imports:\")\n",
        "objgraph.show_growth(limit=10)\n",
        "time.sleep(1)\n",
        "\n",
        "print(\"\\n[2] Growth after normal operations:\")\n",
        "for _ in range(1000):\n",
        "    normal_operations()\n",
        "gc.collect()\n",
        "objgraph.show_growth(limit=10)\n",
        "time.sleep(1)\n",
        "\n",
        "print(\"\\n[3] Simulating memory leak...\")\n",
        "for _ in range(5):\n",
        "    leaky_function()\n",
        "    gc.collect()\n",
        "    print(f\"\\nGrowth after call {_ + 1}:\")\n",
        "    objgraph.show_growth(limit=10)\n",
        "    time.sleep(1)"
      ],
      "metadata": {
        "colab": {
          "base_uri": "https://localhost:8080/"
        },
        "id": "P7TOVSpvNoiS",
        "outputId": "db59377a-d91e-428f-cdf8-dd1b63174834"
      },
      "execution_count": 13,
      "outputs": [
        {
          "output_type": "stream",
          "name": "stdout",
          "text": [
            "Ensure objgraph and weakref are installed:\n",
            "weakref found\n",
            "\n",
            "[1] Initial growth after imports:\n",
            "dict         12872      +134\n",
            "list         12135       +89\n",
            "Name            41       +35\n",
            "Constant        36       +32\n",
            "tuple        14128       +20\n",
            "Call            23       +18\n",
            "Expr            21       +16\n",
            "Attribute       12       +10\n",
            "Assign           7        +7\n",
            "arguments        5        +5\n",
            "\n",
            "[2] Growth after normal operations:\n",
            "\n",
            "[3] Simulating memory leak...\n",
            "\n",
            "Growth after call 1:\n",
            "function    25739      +100\n",
            "\n",
            "Growth after call 2:\n",
            "function    25839      +100\n",
            "\n",
            "Growth after call 3:\n",
            "function    25940      +101\n",
            "tuple       14129        +1\n",
            "cell         4089        +1\n",
            "\n",
            "Growth after call 4:\n",
            "function    26039       +99\n",
            "\n",
            "Growth after call 5:\n",
            "function    26139      +100\n"
          ]
        }
      ]
    }
  ]
}